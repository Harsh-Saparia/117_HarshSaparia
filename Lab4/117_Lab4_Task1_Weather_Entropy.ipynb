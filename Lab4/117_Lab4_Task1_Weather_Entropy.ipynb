{
  "nbformat": 4,
  "nbformat_minor": 2,
  "metadata": {
    "colab": {
      "name": "117_Lab4_Task1_Weather_Entropy.ipynb",
      "provenance": []
    },
    "kernelspec": {
      "name": "python3",
      "display_name": "Python 3.9.4 64-bit"
    },
    "language_info": {
      "name": "python",
      "version": "3.9.4",
      "mimetype": "text/x-python",
      "codemirror_mode": {
        "name": "ipython",
        "version": 3
      },
      "pygments_lexer": "ipython3",
      "nbconvert_exporter": "python",
      "file_extension": ".py"
    },
    "interpreter": {
      "hash": "ac59ebe37160ed0dfa835113d9b8498d9f09ceb179beaac4002f036b9467c963"
    }
  },
  "cells": [
    {
      "cell_type": "code",
      "execution_count": 1,
      "source": [
        "#Import library\r\n",
        "\r\n",
        "from sklearn import preprocessing\r\n",
        "from sklearn import datasets\r\n",
        "from sklearn.tree import DecisionTreeClassifier\r\n",
        "import pandas as pd\r\n",
        "import numpy as np"
      ],
      "outputs": [
        {
          "output_type": "error",
          "ename": "ModuleNotFoundError",
          "evalue": "No module named 'sklearn'",
          "traceback": [
            "\u001b[1;31m---------------------------------------------------------------------------\u001b[0m",
            "\u001b[1;31mModuleNotFoundError\u001b[0m                       Traceback (most recent call last)",
            "\u001b[1;32m~\\AppData\\Local\\Temp/ipykernel_2440/1631701017.py\u001b[0m in \u001b[0;36m<module>\u001b[1;34m\u001b[0m\n\u001b[0;32m      1\u001b[0m \u001b[1;31m#Import library\u001b[0m\u001b[1;33m\u001b[0m\u001b[1;33m\u001b[0m\u001b[1;33m\u001b[0m\u001b[0m\n\u001b[0;32m      2\u001b[0m \u001b[1;33m\u001b[0m\u001b[0m\n\u001b[1;32m----> 3\u001b[1;33m \u001b[1;32mfrom\u001b[0m \u001b[0msklearn\u001b[0m \u001b[1;32mimport\u001b[0m \u001b[0mpreprocessing\u001b[0m\u001b[1;33m\u001b[0m\u001b[1;33m\u001b[0m\u001b[0m\n\u001b[0m\u001b[0;32m      4\u001b[0m \u001b[1;32mfrom\u001b[0m \u001b[0msklearn\u001b[0m \u001b[1;32mimport\u001b[0m \u001b[0mdatasets\u001b[0m\u001b[1;33m\u001b[0m\u001b[1;33m\u001b[0m\u001b[0m\n\u001b[0;32m      5\u001b[0m \u001b[1;32mfrom\u001b[0m \u001b[0msklearn\u001b[0m\u001b[1;33m.\u001b[0m\u001b[0mtree\u001b[0m \u001b[1;32mimport\u001b[0m \u001b[0mDecisionTreeClassifier\u001b[0m\u001b[1;33m\u001b[0m\u001b[1;33m\u001b[0m\u001b[0m\n",
            "\u001b[1;31mModuleNotFoundError\u001b[0m: No module named 'sklearn'"
          ]
        }
      ],
      "metadata": {
        "id": "MAskWgfGSKuN"
      }
    },
    {
      "cell_type": "code",
      "execution_count": 2,
      "source": [
        "#Predictor variables\r\n",
        "\r\n",
        "Outlook = ['Rainy', 'Rainy', 'Overcast', 'Sunny', 'Sunny', 'Sunny', 'Overcast',\r\n",
        "            'Rainy', 'Rainy', 'Sunny', 'Rainy','Overcast', 'Overcast', 'Sunny']\r\n",
        "Temperature = ['Hot', 'Hot', 'Hot', 'Mild', 'Cool', 'Cool', 'Cool',\r\n",
        "                'Mild', 'Cool', 'Mild', 'Mild', 'Mild', 'Hot', 'Mild']\r\n",
        "Humidity = ['High', 'High', 'High', 'High', 'Normal', 'Normal', 'Normal',\r\n",
        "            'High', 'Normal', 'Normal', 'Normal', 'High', 'Normal', 'High']\r\n",
        "Wind = ['False', 'True', 'False', 'False', 'False', 'True', 'True',\r\n",
        "            'False', 'False', 'False', 'True', 'True', 'False', 'True']\r\n",
        "\r\n",
        "#Class Label:\r\n",
        "Play = ['No', 'No', 'Yes', 'Yes', 'Yes', 'No', 'Yes', 'No',\r\n",
        "'Yes', 'Yes', 'Yes', 'Yes', 'Yes', 'No']"
      ],
      "outputs": [],
      "metadata": {
        "id": "9o2pvD7sSr8W"
      }
    },
    {
      "cell_type": "code",
      "execution_count": 3,
      "source": [
        "#Encoding the features using one-hot encoding\n",
        "\n",
        "from sklearn.preprocessing import OneHotEncoder\n",
        "X = tuple(zip(Outlook, Temperature, Humidity, Wind))\n",
        "print(X)\n",
        "X_enc = OneHotEncoder().fit_transform(X).toarray()\n",
        "print(\"\\n\",X_enc)\n",
        "\n",
        "from sklearn.preprocessing import LabelEncoder\n",
        "le = LabelEncoder()\n",
        "Y_enc = le.fit_transform(Play)\n",
        "print(\"\\n\",Y_enc)"
      ],
      "outputs": [
        {
          "output_type": "stream",
          "name": "stdout",
          "text": [
            "(('Rainy', 'Hot', 'High', 'False'), ('Rainy', 'Hot', 'High', 'True'), ('Overcast', 'Hot', 'High', 'False'), ('Sunny', 'Mild', 'High', 'False'), ('Sunny', 'Cool', 'Normal', 'False'), ('Sunny', 'Cool', 'Normal', 'True'), ('Overcast', 'Cool', 'Normal', 'True'), ('Rainy', 'Mild', 'High', 'False'), ('Rainy', 'Cool', 'Normal', 'False'), ('Sunny', 'Mild', 'Normal', 'False'), ('Rainy', 'Mild', 'Normal', 'True'), ('Overcast', 'Mild', 'High', 'True'), ('Overcast', 'Hot', 'Normal', 'False'), ('Sunny', 'Mild', 'High', 'True'))\n",
            "\n",
            " [[0. 1. 0. 0. 1. 0. 1. 0. 1. 0.]\n",
            " [0. 1. 0. 0. 1. 0. 1. 0. 0. 1.]\n",
            " [1. 0. 0. 0. 1. 0. 1. 0. 1. 0.]\n",
            " [0. 0. 1. 0. 0. 1. 1. 0. 1. 0.]\n",
            " [0. 0. 1. 1. 0. 0. 0. 1. 1. 0.]\n",
            " [0. 0. 1. 1. 0. 0. 0. 1. 0. 1.]\n",
            " [1. 0. 0. 1. 0. 0. 0. 1. 0. 1.]\n",
            " [0. 1. 0. 0. 0. 1. 1. 0. 1. 0.]\n",
            " [0. 1. 0. 1. 0. 0. 0. 1. 1. 0.]\n",
            " [0. 0. 1. 0. 0. 1. 0. 1. 1. 0.]\n",
            " [0. 1. 0. 0. 0. 1. 0. 1. 0. 1.]\n",
            " [1. 0. 0. 0. 0. 1. 1. 0. 0. 1.]\n",
            " [1. 0. 0. 0. 1. 0. 0. 1. 1. 0.]\n",
            " [0. 0. 1. 0. 0. 1. 1. 0. 0. 1.]]\n",
            "\n",
            " [0 0 1 1 1 0 1 0 1 1 1 1 1 0]\n"
          ]
        }
      ],
      "metadata": {
        "colab": {
          "base_uri": "https://localhost:8080/"
        },
        "id": "_GlHjaomSwut",
        "outputId": "6539bb02-8b74-4957-f8ca-ab1833f19341"
      }
    },
    {
      "cell_type": "code",
      "execution_count": 4,
      "source": [
        "#Merge different features to prepare dataset\n",
        "#create a tuples of different values\n",
        "\n",
        "print(\"\\nFeatures\\n\")\n",
        "for pair in X_enc:\n",
        "  print(pair)"
      ],
      "outputs": [
        {
          "output_type": "stream",
          "name": "stdout",
          "text": [
            "\n",
            "Features\n",
            "\n",
            "[0. 1. 0. 0. 1. 0. 1. 0. 1. 0.]\n",
            "[0. 1. 0. 0. 1. 0. 1. 0. 0. 1.]\n",
            "[1. 0. 0. 0. 1. 0. 1. 0. 1. 0.]\n",
            "[0. 0. 1. 0. 0. 1. 1. 0. 1. 0.]\n",
            "[0. 0. 1. 1. 0. 0. 0. 1. 1. 0.]\n",
            "[0. 0. 1. 1. 0. 0. 0. 1. 0. 1.]\n",
            "[1. 0. 0. 1. 0. 0. 0. 1. 0. 1.]\n",
            "[0. 1. 0. 0. 0. 1. 1. 0. 1. 0.]\n",
            "[0. 1. 0. 1. 0. 0. 0. 1. 1. 0.]\n",
            "[0. 0. 1. 0. 0. 1. 0. 1. 1. 0.]\n",
            "[0. 1. 0. 0. 0. 1. 0. 1. 0. 1.]\n",
            "[1. 0. 0. 0. 0. 1. 1. 0. 0. 1.]\n",
            "[1. 0. 0. 0. 1. 0. 0. 1. 1. 0.]\n",
            "[0. 0. 1. 0. 0. 1. 1. 0. 0. 1.]\n"
          ]
        }
      ],
      "metadata": {
        "colab": {
          "base_uri": "https://localhost:8080/"
        },
        "id": "h5QLHMdGS0z1",
        "outputId": "3cbdce4f-e3a8-46c9-fa7a-64af5e2db63b"
      }
    },
    {
      "cell_type": "code",
      "execution_count": 5,
      "source": [
        "from sklearn.model_selection import train_test_split\n",
        "\n",
        "x_train, x_test, y_train, y_test = train_test_split(X_enc, Y_enc, test_size = 0.15, random_state = 117)\n",
        "print(x_train)"
      ],
      "outputs": [
        {
          "output_type": "stream",
          "name": "stdout",
          "text": [
            "[[1. 0. 0. 0. 1. 0. 1. 0. 1. 0.]\n",
            " [1. 0. 0. 0. 1. 0. 0. 1. 1. 0.]\n",
            " [0. 0. 1. 0. 0. 1. 0. 1. 1. 0.]\n",
            " [0. 1. 0. 1. 0. 0. 0. 1. 1. 0.]\n",
            " [0. 0. 1. 1. 0. 0. 0. 1. 0. 1.]\n",
            " [1. 0. 0. 0. 0. 1. 1. 0. 0. 1.]\n",
            " [0. 0. 1. 0. 0. 1. 1. 0. 1. 0.]\n",
            " [0. 1. 0. 0. 0. 1. 1. 0. 1. 0.]\n",
            " [0. 1. 0. 0. 1. 0. 1. 0. 0. 1.]\n",
            " [0. 0. 1. 0. 0. 1. 1. 0. 0. 1.]\n",
            " [0. 1. 0. 0. 1. 0. 1. 0. 1. 0.]]\n"
          ]
        }
      ],
      "metadata": {
        "colab": {
          "base_uri": "https://localhost:8080/"
        },
        "id": "sy3Np8GES4Va",
        "outputId": "a9b74320-2893-41c1-bf24-9d4d5d0b0797"
      }
    },
    {
      "cell_type": "code",
      "execution_count": 6,
      "source": [
        "#Create and Train Decision Tree Classifier (using Gini)\n",
        "\n",
        "from sklearn import metrics\n",
        "\n",
        "dtc = DecisionTreeClassifier(criterion = \"gini\",\n",
        "                             random_state = 117, \n",
        "                             max_leaf_nodes=117)\n",
        "\n",
        "dtc.fit(x_train, y_train)"
      ],
      "outputs": [
        {
          "output_type": "execute_result",
          "data": {
            "text/plain": [
              "DecisionTreeClassifier(ccp_alpha=0.0, class_weight=None, criterion='gini',\n",
              "                       max_depth=None, max_features=None, max_leaf_nodes=117,\n",
              "                       min_impurity_decrease=0.0, min_impurity_split=None,\n",
              "                       min_samples_leaf=1, min_samples_split=2,\n",
              "                       min_weight_fraction_leaf=0.0, presort='deprecated',\n",
              "                       random_state=117, splitter='best')"
            ]
          },
          "metadata": {},
          "execution_count": 6
        }
      ],
      "metadata": {
        "colab": {
          "base_uri": "https://localhost:8080/"
        },
        "id": "w36m6qBTS-Gn",
        "outputId": "ec7660fa-17a1-467b-f343-3f64aa478ad3"
      }
    },
    {
      "cell_type": "code",
      "execution_count": 12,
      "source": [
        "# Predict the classes of test data\n",
        "y_pred = dtc.predict(x_test)\n",
        "print(\"Predicted values: \")\n",
        "print(y_pred)"
      ],
      "outputs": [
        {
          "output_type": "stream",
          "name": "stdout",
          "text": [
            "Predicted values: \n",
            "[1 0 1]\n"
          ]
        }
      ],
      "metadata": {
        "colab": {
          "base_uri": "https://localhost:8080/"
        },
        "id": "JlcqeNzhTFwF",
        "outputId": "167cc3b4-c839-4196-b170-c5f6e85e5ed8"
      }
    },
    {
      "cell_type": "code",
      "execution_count": 13,
      "source": [
        "# Model Accuracy\n",
        "from sklearn import metrics\n",
        "from sklearn.metrics import precision_score\n",
        "from sklearn.metrics import recall_score\n",
        "\n",
        "print(\"Confusion Matrix: \", metrics.confusion_matrix(y_test, y_pred))\n",
        "print (\"Accuracy : \", metrics.accuracy_score(y_test,y_pred)*100)\n",
        "print(\"Report : \", metrics.classification_report(y_test, y_pred))"
      ],
      "outputs": [
        {
          "output_type": "stream",
          "name": "stdout",
          "text": [
            "Confusion Matrix:  [[0 0]\n",
            " [1 2]]\n",
            "Accuracy :  66.66666666666666\n",
            "Report :                precision    recall  f1-score   support\n",
            "\n",
            "           0       0.00      0.00      0.00         0\n",
            "           1       1.00      0.67      0.80         3\n",
            "\n",
            "    accuracy                           0.67         3\n",
            "   macro avg       0.50      0.33      0.40         3\n",
            "weighted avg       1.00      0.67      0.80         3\n",
            "\n"
          ]
        },
        {
          "output_type": "stream",
          "name": "stderr",
          "text": [
            "/usr/local/lib/python3.7/dist-packages/sklearn/metrics/_classification.py:1272: UndefinedMetricWarning: Recall and F-score are ill-defined and being set to 0.0 in labels with no true samples. Use `zero_division` parameter to control this behavior.\n",
            "  _warn_prf(average, modifier, msg_start, len(result))\n"
          ]
        }
      ],
      "metadata": {
        "colab": {
          "base_uri": "https://localhost:8080/"
        },
        "id": "pZ27ChQPTIrp",
        "outputId": "074d68b2-0ae4-4512-874b-6c9a1db648f5"
      }
    }
  ]
}
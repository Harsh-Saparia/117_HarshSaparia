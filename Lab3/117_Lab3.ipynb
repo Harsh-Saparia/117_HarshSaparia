{
  "nbformat": 4,
  "nbformat_minor": 0,
  "metadata": {
    "orig_nbformat": 4,
    "language_info": {
      "name": "python",
      "version": "3.9.4"
    },
    "kernelspec": {
      "name": "python3",
      "display_name": "Python 3.9.4 64-bit"
    },
    "interpreter": {
      "hash": "ac59ebe37160ed0dfa835113d9b8498d9f09ceb179beaac4002f036b9467c963"
    },
    "colab": {
      "name": "117_Lab3.ipynb",
      "provenance": []
    }
  },
  "cells": [
    {
      "cell_type": "code",
      "metadata": {
        "colab": {
          "base_uri": "https://localhost:8080/"
        },
        "id": "htS8uZ52rDpR",
        "outputId": "370b1a1c-6e99-4d9d-e0ad-15a7ddbcc572"
      },
      "source": [
        "from google.colab import drive\n",
        "drive.mount('/content/drive')"
      ],
      "execution_count": 1,
      "outputs": [
        {
          "output_type": "stream",
          "name": "stdout",
          "text": [
            "Mounted at /content/drive\n"
          ]
        }
      ]
    },
    {
      "cell_type": "markdown",
      "metadata": {
        "id": "k87o7CtKrDpU"
      },
      "source": [
        "Task 1 :- Try the algo on Dataset3 - OneHotEncoding of features : and train test division 85% - 15%."
      ]
    },
    {
      "cell_type": "code",
      "metadata": {
        "id": "XNi5SAF7rDpV"
      },
      "source": [
        "import numpy as np\n",
        "import pandas as pd\n",
        "from sklearn import datasets, preprocessing\n",
        "from sklearn.naive_bayes import GaussianNB, MultinomialNB\n",
        "\n",
        "dataset = pd.read_csv('/content/drive/MyDrive/ML_Labs/Dataset3.csv')"
      ],
      "execution_count": 2,
      "outputs": []
    },
    {
      "cell_type": "code",
      "metadata": {
        "colab": {
          "base_uri": "https://localhost:8080/"
        },
        "id": "rSqQtNc4rDpZ",
        "outputId": "025b417e-1367-4052-8f9b-cf5a28484ee4"
      },
      "source": [
        "label_encoder = preprocessing.LabelEncoder()\n",
        "yrows = None\n",
        "for data_heading in dataset:\n",
        "  # print(data_heading)\n",
        "  if (data_heading != 'Class') :\n",
        "    print(f'\\n\\nHeading  :-  {data_heading}')\n",
        "    dummy = pd.get_dummies(dataset[data_heading])\n",
        "    dataset = dataset.drop([data_heading], axis = 1)\n",
        "    dataset = pd.concat([dataset, dummy], axis = 1)\n",
        "  else:\n",
        "    yrows = label_encoder.fit_transform(dataset[data_heading])\n",
        "    dataset = dataset.drop([data_heading], axis = 1)"
      ],
      "execution_count": 3,
      "outputs": [
        {
          "output_type": "stream",
          "name": "stdout",
          "text": [
            "\n",
            "\n",
            "Heading  :-  Outlook\n",
            "\n",
            "\n",
            "Heading  :-  Temp\n",
            "\n",
            "\n",
            "Heading  :-  Wind\n",
            "\n",
            "\n",
            "Heading  :-  Humidity\n"
          ]
        }
      ]
    },
    {
      "cell_type": "code",
      "metadata": {
        "colab": {
          "base_uri": "https://localhost:8080/"
        },
        "id": "5hqWDyQfrDpZ",
        "outputId": "af3634a8-a6ff-4b28-84f8-8e503756cef2"
      },
      "source": [
        "print(dataset, yrows)"
      ],
      "execution_count": 4,
      "outputs": [
        {
          "output_type": "stream",
          "name": "stdout",
          "text": [
            "    O  R  S  C  H  M  F  T  0  1  2\n",
            "0   0  1  0  0  1  0  1  0  0  1  0\n",
            "1   0  1  0  0  1  0  0  1  0  0  1\n",
            "2   1  0  0  0  1  0  1  0  0  1  0\n",
            "3   0  1  0  0  0  1  1  0  0  1  0\n",
            "4   0  0  1  1  0  0  1  0  0  1  0\n",
            "5   1  0  0  1  0  0  0  1  1  0  0\n",
            "6   1  0  0  1  0  0  0  1  0  1  0\n",
            "7   0  1  0  0  0  1  1  0  0  1  0\n",
            "8   1  0  0  1  0  0  1  0  1  0  0\n",
            "9   0  0  1  0  0  1  1  0  0  0  1\n",
            "10  0  1  0  1  0  0  0  1  0  0  1\n",
            "11  1  0  0  0  0  1  0  1  1  0  0\n",
            "12  1  0  0  0  1  0  1  0  0  1  0\n",
            "13  0  0  1  0  0  1  0  1  0  1  0 [0 0 1 1 1 0 1 0 1 1 0 1 1 0]\n"
          ]
        }
      ]
    },
    {
      "cell_type": "code",
      "metadata": {
        "id": "eWxswOgVrDpZ"
      },
      "source": [
        "from sklearn.model_selection import train_test_split\n",
        "\n",
        "xtrain, xtest, ytrain, ytest = train_test_split(dataset, yrows, test_size = 0.15, random_state = 117)"
      ],
      "execution_count": 6,
      "outputs": []
    },
    {
      "cell_type": "code",
      "metadata": {
        "colab": {
          "base_uri": "https://localhost:8080/"
        },
        "id": "m7el6VZorDpa",
        "outputId": "c72a1900-465e-439c-ec3d-baf7d27f8fe4"
      },
      "source": [
        "model = MultinomialNB()\n",
        "model.fit(xtrain, ytrain)\n",
        "\n",
        "y_predicted = model.predict(xtest)\n",
        "print(xtest)\n",
        "print('\\n', y_predicted)"
      ],
      "execution_count": 7,
      "outputs": [
        {
          "output_type": "stream",
          "name": "stdout",
          "text": [
            "    O  R  S  C  H  M  F  T  0  1  2\n",
            "4   0  0  1  1  0  0  1  0  0  1  0\n",
            "10  0  1  0  1  0  0  0  1  0  0  1\n",
            "6   1  0  0  1  0  0  0  1  0  1  0\n",
            "\n",
            " [1 0 0]\n"
          ]
        }
      ]
    },
    {
      "cell_type": "code",
      "metadata": {
        "colab": {
          "base_uri": "https://localhost:8080/"
        },
        "id": "E92CUVEZrDpa",
        "outputId": "64abb516-74a3-481b-ba86-eb00b515e199"
      },
      "source": [
        "from sklearn import metrics\n",
        "from sklearn.metrics import precision_score\n",
        "from sklearn.metrics import recall_score\n",
        "\n",
        "print(f'Accuracy is  :-  {metrics.accuracy_score(ytest, y_predicted)}')\n",
        "\n",
        "#precision and recall\n",
        "precision = precision_score(ytest, y_predicted)\n",
        "recall = recall_score(ytest, y_predicted)\n",
        "print(f'Precision  :-  {precision}')\n",
        "print(f'Recall  :-  {recall}')"
      ],
      "execution_count": 8,
      "outputs": [
        {
          "output_type": "stream",
          "name": "stdout",
          "text": [
            "Accuracy is  :-  0.6666666666666666\n",
            "Precision  :-  1.0\n",
            "Recall  :-  0.5\n"
          ]
        }
      ]
    },
    {
      "cell_type": "code",
      "metadata": {
        "colab": {
          "base_uri": "https://localhost:8080/"
        },
        "id": "znt6MBGcrDpb",
        "outputId": "0e6b49dc-2003-443d-ed87-4e9684620d92"
      },
      "source": [
        "#Task1\n",
        "\n",
        "#Outlook(O, R, S) = Rainy, Temp(C, H, M) = Mild, Humidity(high, low, normal) = Normal, Wind(F, T) = False\n",
        "output = model.predict([[0,1,0, 0,0,1, 0,0,1, 1,0]])\n",
        "print('Prediction  :-   ', output)\n",
        "\n",
        "#Sunny, Cool, High, True\n",
        "output = model.predict([[0,0,1, 1,0,0, 1,0,0, 0,1]])\n",
        "print('Prediction  :-  ', output)"
      ],
      "execution_count": 9,
      "outputs": [
        {
          "output_type": "stream",
          "name": "stdout",
          "text": [
            "Prediction  :-    [0]\n",
            "Prediction  :-   [1]\n"
          ]
        }
      ]
    },
    {
      "cell_type": "markdown",
      "metadata": {
        "id": "HpRbMer5rDpc"
      },
      "source": [
        "Task 2 :- Apply algorithm on wine dataset - LabelEncoding of features: and train test division 66% - 34% ."
      ]
    },
    {
      "cell_type": "code",
      "metadata": {
        "colab": {
          "base_uri": "https://localhost:8080/"
        },
        "id": "6-7wBSizrDpc",
        "outputId": "a7df9c1f-fdc1-4d40-9e69-9457a258cca8"
      },
      "source": [
        "from sklearn import preprocessing\n",
        "from sklearn.naive_bayes import GaussianNB\n",
        "from sklearn.datasets import load_wine\n",
        "\n",
        "wine_data = load_wine()\n",
        "print('Features : \\n', wine_data.feature_names)\n",
        "print('\\nLabels : \\n', wine_data.target_names)\n",
        "wine_data.data.shape"
      ],
      "execution_count": 10,
      "outputs": [
        {
          "output_type": "stream",
          "name": "stdout",
          "text": [
            "Features : \n",
            " ['alcohol', 'malic_acid', 'ash', 'alcalinity_of_ash', 'magnesium', 'total_phenols', 'flavanoids', 'nonflavanoid_phenols', 'proanthocyanins', 'color_intensity', 'hue', 'od280/od315_of_diluted_wines', 'proline']\n",
            "\n",
            "Labels : \n",
            " ['class_0' 'class_1' 'class_2']\n"
          ]
        },
        {
          "output_type": "execute_result",
          "data": {
            "text/plain": [
              "(178, 13)"
            ]
          },
          "metadata": {},
          "execution_count": 10
        }
      ]
    },
    {
      "cell_type": "code",
      "metadata": {
        "id": "pmKjnYtlrDpc"
      },
      "source": [
        "from sklearn.model_selection import train_test_split\n",
        "\n",
        "data_train, data_test, target_train, target_test = train_test_split(wine_data.data, wine_data.target, test_size = 0.34, random_state = 117)"
      ],
      "execution_count": 11,
      "outputs": []
    },
    {
      "cell_type": "code",
      "metadata": {
        "id": "SM29KKsorDpd"
      },
      "source": [
        "import numpy as np\n",
        "gnb = GaussianNB()\n",
        "\n",
        "gnb.fit(data_train, target_train)   #train the model using training sets\n",
        "target_prediction = gnb.predict(data_test)  #predict the response of test dataset"
      ],
      "execution_count": 12,
      "outputs": []
    },
    {
      "cell_type": "code",
      "metadata": {
        "colab": {
          "base_uri": "https://localhost:8080/"
        },
        "id": "3BlW4YSwrDpd",
        "outputId": "bad736bd-3809-461d-b09d-3879a3a187f5"
      },
      "source": [
        "from sklearn import metrics\n",
        "\n",
        "print('Accuracy of model  :  ', metrics.accuracy_score(target_test, target_prediction))"
      ],
      "execution_count": 13,
      "outputs": [
        {
          "output_type": "stream",
          "name": "stdout",
          "text": [
            "Accuracy of model  :   0.9672131147540983\n"
          ]
        }
      ]
    },
    {
      "cell_type": "code",
      "metadata": {
        "colab": {
          "base_uri": "https://localhost:8080/"
        },
        "id": "SpGj5iyRrDpd",
        "outputId": "8842057e-4e95-4e73-8eb6-89f0f71d016c"
      },
      "source": [
        "from sklearn.metrics import confusion_matrix\n",
        "confusion_matrix(target_test, target_prediction)"
      ],
      "execution_count": 14,
      "outputs": [
        {
          "output_type": "execute_result",
          "data": {
            "text/plain": [
              "array([[18,  2,  0],\n",
              "       [ 0, 24,  0],\n",
              "       [ 0,  0, 17]])"
            ]
          },
          "metadata": {},
          "execution_count": 14
        }
      ]
    },
    {
      "cell_type": "code",
      "metadata": {
        "colab": {
          "base_uri": "https://localhost:8080/"
        },
        "id": "n2iqEge_rDpe",
        "outputId": "fd4089a9-e484-4326-f26d-bc41858554ef"
      },
      "source": [
        "from sklearn.metrics import precision_score\n",
        "from sklearn.metrics import recall_score\n",
        "\n",
        "precision = precision_score(target_test, target_prediction, average = None)\n",
        "recall = recall_score(target_test, target_prediction, average = None)\n",
        "\n",
        "print('Precision  :  {}'.format(precision))\n",
        "print('\\n\\nRecall  :  {}'.format(recall))"
      ],
      "execution_count": 16,
      "outputs": [
        {
          "output_type": "stream",
          "name": "stdout",
          "text": [
            "Precision  :  [1.         0.92307692 1.        ]\n",
            "\n",
            "\n",
            "Recall  :  [0.9 1.  1. ]\n"
          ]
        }
      ]
    }
  ]
}